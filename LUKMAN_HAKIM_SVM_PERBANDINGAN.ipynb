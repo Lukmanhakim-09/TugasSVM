{
  "nbformat": 4,
  "nbformat_minor": 0,
  "metadata": {
    "colab": {
      "provenance": [],
      "machine_shape": "hm"
    },
    "kernelspec": {
      "name": "python3",
      "display_name": "Python 3"
    }
  },
  "cells": [
    {
      "cell_type": "markdown",
      "metadata": {
        "id": "0MRC0e0KhQ0S"
      },
      "source": [
        "# Support Vector Machine (SVM)"
      ]
    },
    {
      "cell_type": "markdown",
      "metadata": {
        "id": "LWd1UlMnhT2s"
      },
      "source": [
        "## Importing the libraries"
      ]
    },
    {
      "cell_type": "code",
      "metadata": {
        "id": "YvGPUQaHhXfL"
      },
      "source": [
        "import pandas as pd\n",
        "import numpy as np\n",
        "from sklearn.model_selection import train_test_split\n",
        "from sklearn.preprocessing import StandardScaler\n",
        "from sklearn.svm import SVC\n",
        "from sklearn.metrics import confusion_matrix, f1_score"
      ],
      "execution_count": null,
      "outputs": []
    },
    {
      "cell_type": "markdown",
      "metadata": {
        "id": "K1VMqkGvhc3-"
      },
      "source": [
        "## Importing the dataset"
      ]
    },
    {
      "cell_type": "code",
      "metadata": {
        "id": "M52QDmyzhh9s"
      },
      "source": [
        "file_path = \"Social_Network_Ads.csv\"\n",
        "df = pd.read_csv(file_path)"
      ],
      "execution_count": 7,
      "outputs": []
    },
    {
      "cell_type": "markdown",
      "metadata": {
        "id": "YvxIPVyMhmKp"
      },
      "source": [
        "## Splitting the dataset into the Training set and Test set"
      ]
    },
    {
      "cell_type": "markdown",
      "source": [
        "Split features and target"
      ],
      "metadata": {
        "id": "MHD11eaxMnEN"
      }
    },
    {
      "source": [
        "X = df[['Age', 'EstimatedSalary']].values  # Replace 'dataset' with 'df'\n",
        "y = df['Purchased'].values  # Replace 'dataset' with 'df'"
      ],
      "cell_type": "code",
      "metadata": {
        "id": "3OZXLWqNKWrS"
      },
      "execution_count": 9,
      "outputs": []
    },
    {
      "cell_type": "markdown",
      "source": [
        "Split train and test data"
      ],
      "metadata": {
        "id": "nK419wZpMvev"
      }
    },
    {
      "cell_type": "code",
      "source": [
        "X_train, X_test, y_train, y_test = train_test_split(X, y, test_size=0.2, random_state=42)"
      ],
      "metadata": {
        "id": "gwoMKUqVKcYn"
      },
      "execution_count": 10,
      "outputs": []
    },
    {
      "cell_type": "markdown",
      "source": [
        "Standardize the data"
      ],
      "metadata": {
        "id": "eUHsxH_iM0YQ"
      }
    },
    {
      "cell_type": "code",
      "source": [
        "scaler = StandardScaler()\n",
        "X_train = scaler.fit_transform(X_train)\n",
        "X_test = scaler.transform(X_test)"
      ],
      "metadata": {
        "id": "UBfitSpKKfo4"
      },
      "execution_count": 11,
      "outputs": []
    },
    {
      "cell_type": "markdown",
      "source": [
        "Define kernels"
      ],
      "metadata": {
        "id": "42h4N5rBM5Gl"
      }
    },
    {
      "cell_type": "code",
      "source": [
        "kernels = ['linear', 'poly', 'sigmoid', 'rbf']\n",
        "results = {}"
      ],
      "metadata": {
        "id": "ChfmV0O0KhAA"
      },
      "execution_count": 12,
      "outputs": []
    },
    {
      "cell_type": "markdown",
      "source": [
        "Train and evaluate SVM with different kernels"
      ],
      "metadata": {
        "id": "HtTtEn1ZM9xP"
      }
    },
    {
      "cell_type": "code",
      "source": [
        "for kernel in kernels:\n",
        "    model = SVC(kernel=kernel, random_state=42)\n",
        "    model.fit(X_train, y_train)\n",
        "    y_pred = model.predict(X_test)\n",
        "\n",
        "    # Compute confusion matrix and F1-score\n",
        "    cm = confusion_matrix(y_test, y_pred)\n",
        "    f1 = f1_score(y_test, y_pred)\n",
        "\n",
        "    results[kernel] = {'Confusion Matrix': cm, 'F1 Score': f1}\n",
        "\n",
        "    # Print evaluation metrics\n",
        "    print(f\"Kernel: {kernel}\")\n",
        "    print(\"Confusion Matrix:\")\n",
        "    print(cm)\n",
        "    print(f\"F1 Score: {f1:.4f}\")\n",
        "    print(\"-\" * 50)"
      ],
      "metadata": {
        "colab": {
          "base_uri": "https://localhost:8080/"
        },
        "id": "UMWyqg5bKlN9",
        "outputId": "20f64c30-9498-415f-d0ec-cb74eb552122"
      },
      "execution_count": 13,
      "outputs": [
        {
          "output_type": "stream",
          "name": "stdout",
          "text": [
            "Kernel: linear\n",
            "Confusion Matrix:\n",
            "[[50  2]\n",
            " [ 9 19]]\n",
            "F1 Score: 0.7755\n",
            "--------------------------------------------------\n",
            "Kernel: poly\n",
            "Confusion Matrix:\n",
            "[[52  0]\n",
            " [10 18]]\n",
            "F1 Score: 0.7826\n",
            "--------------------------------------------------\n",
            "Kernel: sigmoid\n",
            "Confusion Matrix:\n",
            "[[45  7]\n",
            " [11 17]]\n",
            "F1 Score: 0.6538\n",
            "--------------------------------------------------\n",
            "Kernel: rbf\n",
            "Confusion Matrix:\n",
            "[[47  5]\n",
            " [ 1 27]]\n",
            "F1 Score: 0.9000\n",
            "--------------------------------------------------\n"
          ]
        }
      ]
    },
    {
      "cell_type": "markdown",
      "source": [
        "Hasil evaluasi model **Support Vector Machine (SVM)** dengan empat jenis kernel pada dataset **Social Network Ads** menunjukkan perbedaan performa yang cukup signifikan. Evaluasi dilakukan menggunakan **confusion matrix** dan **F1-score**, yang digunakan untuk mengukur keseimbangan antara precision dan recall.  \n",
        "\n",
        "Pada kernel **linear**, model menunjukkan performa yang cukup baik dengan **confusion matrix** \\(\\begin{bmatrix} 50 & 2 \\\\ 9 & 19 \\end{bmatrix}\\). Model berhasil mengklasifikasikan 50 sampel dengan benar sebagai tidak membeli (TN) dan 19 sampel dengan benar sebagai membeli (TP). Namun, terdapat 9 kesalahan dalam mengklasifikasikan pengguna yang sebenarnya membeli tetapi diprediksi tidak membeli (FN), serta 2 kesalahan lainnya dalam mengklasifikasikan pengguna yang sebenarnya tidak membeli tetapi diprediksi membeli (FP). **F1-score yang diperoleh adalah 0.7755**, menunjukkan performa yang cukup stabil, tetapi masih bisa ditingkatkan.  \n",
        "\n",
        "Kernel **polynomial** sedikit lebih baik dibandingkan linear, dengan **confusion matrix** \\(\\begin{bmatrix} 52 & 0 \\\\ 10 & 18 \\end{bmatrix}\\). Model ini memiliki **True Negative (TN) tertinggi, yaitu 52**, tanpa kesalahan dalam mengklasifikasikan pengguna yang seharusnya tidak membeli. Namun, terdapat 10 kesalahan False Negative (FN), di mana pengguna yang seharusnya membeli justru diprediksi tidak membeli. **F1-score sebesar 0.7826** menunjukkan bahwa kernel polynomial memiliki performa yang sedikit lebih baik dibandingkan kernel linear.  \n",
        "\n",
        "Sementara itu, kernel **sigmoid** menunjukkan performa terburuk, dengan **confusion matrix** \\(\\begin{bmatrix} 45 & 7 \\\\ 11 & 17 \\end{bmatrix}\\). Model ini membuat **banyak kesalahan dalam False Positive (7) dan False Negative (11)**, menunjukkan bahwa model kesulitan dalam membedakan antara pengguna yang membeli dan tidak membeli. **F1-score yang diperoleh hanya 0.6538**, yang merupakan nilai terendah dibandingkan dengan kernel lainnya. Hal ini menandakan bahwa kernel sigmoid kurang cocok untuk dataset ini.  \n",
        "\n",
        "Sebaliknya, kernel **Radial Basis Function (RBF)** menunjukkan hasil terbaik, dengan **confusion matrix** \\(\\begin{bmatrix} 47 & 5 \\\\ 1 & 27 \\end{bmatrix}\\). Model ini hanya melakukan **1 kesalahan False Negative (FN)**, yang berarti hampir semua pengguna yang seharusnya membeli berhasil diprediksi dengan benar. Meskipun terdapat 5 kesalahan False Positive (FP), performa model secara keseluruhan sangat baik. **F1-score sebesar 0.9000**, yang merupakan skor tertinggi di antara semua kernel, menegaskan bahwa kernel RBF memiliki tingkat prediksi terbaik.  \n",
        "\n",
        "Berdasarkan hasil ini, **kernel RBF merupakan pilihan terbaik untuk dataset Social Network Ads** karena memiliki kombinasi **False Negative yang sangat rendah dan F1-score tertinggi**. Kernel polynomial dan linear masih dapat digunakan, tetapi memiliki performa yang lebih rendah dibandingkan RBF. **Kernel sigmoid sebaiknya dihindari**, karena memiliki akurasi dan keseimbangan prediksi yang buruk. Dengan demikian, jika tujuan utama adalah meningkatkan akurasi klasifikasi dalam membedakan pengguna yang membeli dan tidak membeli, **kernel RBF adalah opsi terbaik**."
      ],
      "metadata": {
        "id": "_PjJyFcHNZm0"
      }
    },
    {
      "cell_type": "code",
      "source": [
        "# Print best kernel based on F1 Score\n",
        "best_kernel = max(results, key=lambda k: results[k]['F1 Score'])\n",
        "print(f\"Best performing kernel: {best_kernel} with F1 Score: {results[best_kernel]['F1 Score']:.4f}\")\n"
      ],
      "metadata": {
        "colab": {
          "base_uri": "https://localhost:8080/"
        },
        "id": "8Ba4Cd8iK4kM",
        "outputId": "6c77292b-b6f0-463d-b0df-b3fe8890b45b"
      },
      "execution_count": null,
      "outputs": [
        {
          "output_type": "stream",
          "name": "stdout",
          "text": [
            "Best performing kernel: rbf with F1 Score: 0.9000\n"
          ]
        }
      ]
    },
    {
      "cell_type": "markdown",
      "source": [
        "dapat disimpulkan bahwa kernel RBF memiliki performa terbaik dengan F1-score tertinggi sebesar 0.9000. Ini mengonfirmasi bahwa kernel RBF adalah pilihan optimal untuk model SVM pada dataset Social Network Ads"
      ],
      "metadata": {
        "id": "0OWDmJT1N0Yu"
      }
    }
  ]
}